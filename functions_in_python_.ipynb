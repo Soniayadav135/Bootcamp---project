{
  "nbformat": 4,
  "nbformat_minor": 0,
  "metadata": {
    "colab": {
      "name": "functions in python .ipynb",
      "provenance": []
    },
    "kernelspec": {
      "name": "python3",
      "display_name": "Python 3"
    },
    "language_info": {
      "name": "python"
    }
  },
  "cells": [
    {
      "cell_type": "code",
      "metadata": {
        "colab": {
          "base_uri": "https://localhost:8080/"
        },
        "id": "hfkp9R4QZe4u",
        "outputId": "f1412b3f-07a4-4377-ffb1-448f18188181"
      },
      "source": [
        "#The code below uses map() to find the mean of each list in numbers to create the list averages. Give it a test run to see what happens.\n",
        "numbers = [\n",
        "              [34, 63, 88, 71, 29],\n",
        "              [90, 78, 51, 27, 45],\n",
        "              [63, 37, 85, 46, 22],\n",
        "              [51, 22, 34, 11, 18]\n",
        "           ]\n",
        "\n",
        "def mean(num_list):\n",
        "    return sum(num_list) / len(num_list)\n",
        "\n",
        "averages = list(map(mean, numbers))\n",
        "print(averages)\n",
        "\n"
      ],
      "execution_count": 23,
      "outputs": [
        {
          "output_type": "stream",
          "text": [
            "[57.0, 58.2, 50.6, 27.2]\n"
          ],
          "name": "stdout"
        }
      ]
    },
    {
      "cell_type": "code",
      "metadata": {
        "id": "2vkKvrZIfQ1t"
      },
      "source": [
        ""
      ],
      "execution_count": null,
      "outputs": []
    },
    {
      "cell_type": "code",
      "metadata": {
        "colab": {
          "base_uri": "https://localhost:8080/"
        },
        "id": "voJlFS3PeY1F",
        "outputId": "69de49d2-8ae5-4435-a15c-80b03380d15b"
      },
      "source": [
        "#List are ordered, we can look up individual elements by their index, we can look elements from a list just like we have done below.\n",
        "\n",
        "students = ['sam', 'pam', 'rocky', 'austin', 'steve', 'banner']\n",
        "print(students[0])\n",
        "print(students[1])\n",
        "print(students[2])\n"
      ],
      "execution_count": 22,
      "outputs": [
        {
          "output_type": "stream",
          "text": [
            "sam\n",
            "pam\n",
            "rocky\n"
          ],
          "name": "stdout"
        }
      ]
    },
    {
      "cell_type": "code",
      "metadata": {
        "colab": {
          "base_uri": "https://localhost:8080/"
        },
        "id": "NYt77LxJf-pq",
        "outputId": "3015d0dc-32a4-49a2-f44b-9303a3e14897"
      },
      "source": [
        "#Sets : Sets support the in operator the same as lists do. You can add elements to sets using the add method, and remove elements using the pop method, similar to lists. Although, when you pop an element from a set, a random element is removed. Remember that sets, unlike lists, are unordered so there is no \"last element\".\n",
        "\n",
        "fruit = {\"apple\", \"banana\", \"orange\", \"grapefruit\"}  # define a set\n",
        "\n",
        "print(\"watermelon\" in fruit)  # check for element\n",
        "\n",
        "fruit.add(\"watermelon\")  # add an element\n",
        "print(fruit)\n",
        "print(\"watermelon\" in fruit)  # check for element\n",
        "\n",
        "print(fruit.pop())  # remove a random element\n",
        "print(fruit)"
      ],
      "execution_count": 24,
      "outputs": [
        {
          "output_type": "stream",
          "text": [
            "False\n",
            "{'banana', 'orange', 'apple', 'grapefruit', 'watermelon'}\n",
            "True\n",
            "banana\n",
            "{'orange', 'apple', 'grapefruit', 'watermelon'}\n"
          ],
          "name": "stdout"
        }
      ]
    }
  ]
}